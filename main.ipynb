{
 "cells": [
  {
   "cell_type": "markdown",
   "metadata": {},
   "source": [
    "# EEG Signal Classification Notebook\n",
    "\n",
    "## Introduction\n",
    "\n",
    "The main objective of this task is to obtain a neural representation from the output of both a typical Convulutional Neural Network which feeds on images and from a Convolutional Neural Network which processes and classifies EEG signals, and compare the obtained representations in order to try and find a correlation between the two.\n",
    "\n",
    "Let's start by importing `torch` (PyTorch)."
   ]
  },
  {
   "cell_type": "code",
   "execution_count": 3,
   "metadata": {},
   "outputs": [],
   "source": [
    "import torch"
   ]
  },
  {
   "cell_type": "markdown",
   "metadata": {},
   "source": [
    "In the original file, we defined the different arguments using the `argparse` library. In this notebook, we devote a whole cell to define all the arguments needed by our analysis."
   ]
  },
  {
   "cell_type": "code",
   "execution_count": null,
   "metadata": {},
   "outputs": [],
   "source": [
    "EEG_DATASET_PATH = \"data/eeg_5_95_std.pth\"\n",
    "\n",
    "SPLITS_PATH = \"data/block_splits_by_image_all.pth\"\n",
    "\n",
    "# Leave this always to zero\n",
    "SPLIT_NUM = 0\n",
    "\n",
    "# Subject selecting\n",
    "# Choose a subject from 1 to 6, default is 0 (all subjects)\n",
    "SUBJECT = 0\n",
    "\n",
    "# Time options: select from 20 to 460 samples from EEG data\n",
    "TIME_LOW = 20\n",
    "TIME_HIGH = 460\n",
    "\n",
    "# Model type/options\n",
    "# Specify which generator should be used. Available: lstm | EEGChannelNet\n",
    "# It is possible to test out multiple deep classifiers:\n",
    "#   - lstm is the model described in the paper \n",
    "#     \"Deep Learning Human Mind for Automated Visual Classification”, CVPR 2017\n",
    "#   - model10 is the model described in the paper \n",
    "#     \"Decoding brain representations by multimodal learning of neural activity and visual features\", TPAMI 2020\n",
    "MODEL_TYPE = \"lstm\"\n",
    "\n",
    "MODEL_PARAMS = \"\"\n",
    "PRETRAINED_NET = \"\"\n",
    "\n",
    "# Training options\n",
    "BATCH_SIZE = 16\n",
    "OPTIMIZER = \"Adam\"\n",
    "LEARNING_RATE = 0.0001\n",
    "LEARNING_RATE_DECAY_BY = 0.5\n",
    "LEARNING_RATE_DECAY_EVERY = 10\n",
    "DATA_WORKERS = 4\n",
    "EPOCHS = 200\n",
    "\n",
    "# Save options\n",
    "SAVE_CHECK = 100\n",
    "\n",
    "# Backend options\n",
    "CUDA = False \n",
    "METAL = True\n",
    "\n",
    "torch.utils.backcompat.broadcast_warning.enabled = True\n",
    "\n",
    "if CUDA:\n",
    "    torch.backends.cudnn.benchmark = True"
   ]
  },
  {
   "cell_type": "markdown",
   "metadata": {},
   "source": [
    "Let's define our `EEGDataset` and `Splitter` classes as defined in the file [`eeg_signal_classification.py`](./eeg_signal_classification.py)"
   ]
  },
  {
   "cell_type": "code",
   "execution_count": null,
   "metadata": {},
   "outputs": [],
   "source": [
    "class EEGDataset:\n",
    "    def __init__(self, eeg_signals_path, subject=0, time_low=20, time_high=460, model_type=\"lstm\"):\n",
    "        self.subject = subject\n",
    "        self.time_low = time_low\n",
    "        self.time_high = time_high\n",
    "        self.model_type = model_type\n",
    "\n",
    "        # Load EEG signals\n",
    "        loaded = torch.load(eeg_signals_path)\n",
    "        if subject != 0:\n",
    "            self.data = [loaded[\"dataset\"][i] for i in range(\n",
    "                len(loaded[\"dataset\"])) if loaded[\"dataset\"][i][\"subject\"] == subject]\n",
    "        else:\n",
    "            self.data = loaded[\"dataset\"]\n",
    "        self.labels = loaded[\"labels\"]\n",
    "        self.images = loaded[\"images\"]\n",
    "\n",
    "        # Compute size\n",
    "        self.size = len(self.data)\n",
    "\n",
    "    def __len__(self):\n",
    "        return self.size\n",
    "\n",
    "    # Get item\n",
    "    def __getitem__(self, i):\n",
    "        # Process EEG\n",
    "        eeg = self.data[i][\"eeg\"].float().t()\n",
    "        eeg = eeg[self.time_low:self.time_high, :]\n",
    "\n",
    "        if self.model_type == \"model10\":\n",
    "            eeg = eeg.t()\n",
    "            eeg = eeg.view(1, 128, self.time_high - self.time_low)\n",
    "        # Get label\n",
    "        label = self.data[i][\"label\"]\n",
    "        \n",
    "        return eeg, label\n",
    "\n",
    "class Splitter:\n",
    "    def __init__(self, dataset, split_path, split_num=0, split_name=\"train\"):\n",
    "        # Set EEG dataset\n",
    "        self.dataset = dataset\n",
    "        # Load split\n",
    "        loaded = torch.load(split_path)\n",
    "        self.split_idx = loaded[\"splits\"][split_num][split_name]\n",
    "        # Filter data\n",
    "        self.split_idx = [i for i in self.split_idx if 450 <=\n",
    "                          self.dataset.data[i][\"eeg\"].size(1) <= 600]\n",
    "        # Compute size\n",
    "        self.size = len(self.split_idx)\n",
    "\n",
    "    def __len__(self):\n",
    "        return self.size\n",
    "\n",
    "    def __getitem__(self, i):\n",
    "        # Get sample from dataset\n",
    "        eeg, label = self.dataset[self.split_idx[i]]\n",
    "        \n",
    "        return eeg, label\n",
    "        "
   ]
  },
  {
   "cell_type": "markdown",
   "metadata": {},
   "source": []
  }
 ],
 "metadata": {
  "kernelspec": {
   "display_name": "Python 3.10.5 ('base')",
   "language": "python",
   "name": "python3"
  },
  "language_info": {
   "codemirror_mode": {
    "name": "ipython",
    "version": 3
   },
   "file_extension": ".py",
   "mimetype": "text/x-python",
   "name": "python",
   "nbconvert_exporter": "python",
   "pygments_lexer": "ipython3",
   "version": "3.10.5"
  },
  "orig_nbformat": 4,
  "vscode": {
   "interpreter": {
    "hash": "c6e4e9f98eb68ad3b7c296f83d20e6de614cb42e90992a65aa266555a3137d0d"
   }
  }
 },
 "nbformat": 4,
 "nbformat_minor": 2
}
